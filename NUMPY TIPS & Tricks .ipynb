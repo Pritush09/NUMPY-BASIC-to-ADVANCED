{
 "cells": [
  {
   "cell_type": "code",
   "execution_count": 1,
   "id": "74e24df4",
   "metadata": {},
   "outputs": [],
   "source": [
    "import numpy as np"
   ]
  },
  {
   "cell_type": "markdown",
   "id": "1fbe0ff6",
   "metadata": {},
   "source": [
    "# np.sort\n",
    "* Return a sorted copy of an array.\n",
    "\n",
    "https://numpy.org/doc/stable/reference/generated/numpy.sort.html"
   ]
  },
  {
   "cell_type": "code",
   "execution_count": 2,
   "id": "a45f128d",
   "metadata": {},
   "outputs": [
    {
     "data": {
      "text/plain": [
       "array([92, 84, 39,  4, 94, 51, 62, 93, 91,  5, 80, 17, 45, 30, 23])"
      ]
     },
     "execution_count": 2,
     "metadata": {},
     "output_type": "execute_result"
    }
   ],
   "source": [
    "# code\n",
    "import numpy as np\n",
    "a = np.random.randint(1,100,15)\n",
    "a"
   ]
  },
  {
   "cell_type": "code",
   "execution_count": 3,
   "id": "858be8ec",
   "metadata": {},
   "outputs": [
    {
     "data": {
      "text/plain": [
       "array([[34, 12, 12, 14],\n",
       "       [49, 55, 84, 80],\n",
       "       [24, 47, 25, 22],\n",
       "       [98, 19, 87, 76],\n",
       "       [57, 36, 60, 66],\n",
       "       [65, 83, 22, 39]])"
      ]
     },
     "execution_count": 3,
     "metadata": {},
     "output_type": "execute_result"
    }
   ],
   "source": [
    "b = np.random.randint(1,100,24).reshape(6,4)\n",
    "b"
   ]
  },
  {
   "cell_type": "code",
   "execution_count": 4,
   "id": "a256939a",
   "metadata": {},
   "outputs": [
    {
     "data": {
      "text/plain": [
       "array([94, 93, 92, 91, 84, 80, 62, 51, 45, 39, 30, 23, 17,  5,  4])"
      ]
     },
     "execution_count": 4,
     "metadata": {},
     "output_type": "execute_result"
    }
   ],
   "source": [
    "np.sort(a)[::-1]"
   ]
  },
  {
   "cell_type": "code",
   "execution_count": 5,
   "id": "2689dc03",
   "metadata": {},
   "outputs": [
    {
     "data": {
      "text/plain": [
       "array([[24, 12, 12, 14],\n",
       "       [34, 19, 22, 22],\n",
       "       [49, 36, 25, 39],\n",
       "       [57, 47, 60, 66],\n",
       "       [65, 55, 84, 76],\n",
       "       [98, 83, 87, 80]])"
      ]
     },
     "execution_count": 5,
     "metadata": {},
     "output_type": "execute_result"
    }
   ],
   "source": [
    "np.sort(b,axis=0)"
   ]
  },
  {
   "cell_type": "markdown",
   "id": "fd1eb8a0",
   "metadata": {},
   "source": [
    "# np.append\n",
    "* The numpy.append() appends values along the mentioned axis at the end of the array\n",
    "\n",
    "https://numpy.org/doc/stable/reference/generated/numpy.append.html"
   ]
  },
  {
   "cell_type": "code",
   "execution_count": 6,
   "id": "3dadc487",
   "metadata": {},
   "outputs": [
    {
     "data": {
      "text/plain": [
       "array([ 92,  84,  39,   4,  94,  51,  62,  93,  91,   5,  80,  17,  45,\n",
       "        30,  23, 200])"
      ]
     },
     "execution_count": 6,
     "metadata": {},
     "output_type": "execute_result"
    }
   ],
   "source": [
    "# code\n",
    "np.append(a,200)"
   ]
  },
  {
   "cell_type": "code",
   "execution_count": 7,
   "id": "a6880ec8",
   "metadata": {},
   "outputs": [
    {
     "data": {
      "text/plain": [
       "array([[34, 12, 12, 14],\n",
       "       [49, 55, 84, 80],\n",
       "       [24, 47, 25, 22],\n",
       "       [98, 19, 87, 76],\n",
       "       [57, 36, 60, 66],\n",
       "       [65, 83, 22, 39]])"
      ]
     },
     "execution_count": 7,
     "metadata": {},
     "output_type": "execute_result"
    }
   ],
   "source": [
    "b"
   ]
  },
  {
   "cell_type": "code",
   "execution_count": 8,
   "id": "2ca89a81",
   "metadata": {},
   "outputs": [
    {
     "data": {
      "text/plain": [
       "array([[34.        , 12.        , 12.        , 14.        ,  0.15291189],\n",
       "       [49.        , 55.        , 84.        , 80.        ,  0.53204302],\n",
       "       [24.        , 47.        , 25.        , 22.        ,  0.3529014 ],\n",
       "       [98.        , 19.        , 87.        , 76.        ,  0.4338198 ],\n",
       "       [57.        , 36.        , 60.        , 66.        ,  0.90372434],\n",
       "       [65.        , 83.        , 22.        , 39.        ,  0.69394617]])"
      ]
     },
     "execution_count": 8,
     "metadata": {},
     "output_type": "execute_result"
    }
   ],
   "source": [
    "np.append(b,np.random.random((b.shape[0],1)),axis=1) # ye column wise he but axis rows ko match karna chahiye "
   ]
  },
  {
   "cell_type": "code",
   "execution_count": 10,
   "id": "8ef6c9d3",
   "metadata": {},
   "outputs": [
    {
     "data": {
      "text/plain": [
       "array([[3.40000000e+01, 1.20000000e+01, 1.20000000e+01, 1.40000000e+01],\n",
       "       [4.90000000e+01, 5.50000000e+01, 8.40000000e+01, 8.00000000e+01],\n",
       "       [2.40000000e+01, 4.70000000e+01, 2.50000000e+01, 2.20000000e+01],\n",
       "       [9.80000000e+01, 1.90000000e+01, 8.70000000e+01, 7.60000000e+01],\n",
       "       [5.70000000e+01, 3.60000000e+01, 6.00000000e+01, 6.60000000e+01],\n",
       "       [6.50000000e+01, 8.30000000e+01, 2.20000000e+01, 3.90000000e+01],\n",
       "       [6.77947867e-01, 7.87505379e-01, 9.13865497e-01, 2.30291762e-01],\n",
       "       [3.46106804e-01, 5.10818406e-01, 2.72660262e-01, 5.77591231e-03]])"
      ]
     },
     "execution_count": 10,
     "metadata": {},
     "output_type": "execute_result"
    }
   ],
   "source": [
    "np.append(b,np.random.random((2,b.shape[1])),axis=0) \n",
    "# ye row wise addition he but axis column ko match karna chahiye"
   ]
  },
  {
   "cell_type": "markdown",
   "id": "9087248f",
   "metadata": {},
   "source": [
    "# np.concatenate\n",
    "* numpy.concatenate() function concatenate a sequence of arrays along an existing axis.\n",
    "\n",
    "https://numpy.org/doc/stable/reference/generated/numpy.concatenate.html"
   ]
  },
  {
   "cell_type": "code",
   "execution_count": 16,
   "id": "eccb327f",
   "metadata": {},
   "outputs": [
    {
     "name": "stdout",
     "output_type": "stream",
     "text": [
      "[[0 1 2]\n",
      " [3 4 5]]\n",
      "[[ 6  7  8]\n",
      " [ 9 10 11]]\n"
     ]
    }
   ],
   "source": [
    "# code\n",
    "c = np.arange(6).reshape(2,3)\n",
    "d = np.arange(6,12).reshape(2,3)\n",
    "a = np.arange(3).reshape(1,3)\n",
    "print(c)\n",
    "print(d)"
   ]
  },
  {
   "cell_type": "code",
   "execution_count": 12,
   "id": "e9ab26da",
   "metadata": {},
   "outputs": [
    {
     "data": {
      "text/plain": [
       "array([[ 0,  1,  2],\n",
       "       [ 3,  4,  5],\n",
       "       [ 6,  7,  8],\n",
       "       [ 9, 10, 11]])"
      ]
     },
     "execution_count": 12,
     "metadata": {},
     "output_type": "execute_result"
    }
   ],
   "source": [
    "np.concatenate((c,d),axis=0)"
   ]
  },
  {
   "cell_type": "code",
   "execution_count": 20,
   "id": "b1f9952d",
   "metadata": {},
   "outputs": [
    {
     "data": {
      "text/plain": [
       "array([[0, 1, 2],\n",
       "       [3, 4, 5],\n",
       "       [0, 1, 2]])"
      ]
     },
     "execution_count": 20,
     "metadata": {},
     "output_type": "execute_result"
    }
   ],
   "source": [
    "np.concatenate((c,a),axis=0)"
   ]
  },
  {
   "cell_type": "code",
   "execution_count": 18,
   "id": "03c7cff6",
   "metadata": {},
   "outputs": [
    {
     "ename": "ValueError",
     "evalue": "all the input array dimensions for the concatenation axis must match exactly, but along dimension 0, the array at index 0 has size 2 and the array at index 1 has size 1",
     "output_type": "error",
     "traceback": [
      "\u001b[1;31m---------------------------------------------------------------------------\u001b[0m",
      "\u001b[1;31mValueError\u001b[0m                                Traceback (most recent call last)",
      "\u001b[1;32m~\\AppData\\Local\\Temp/ipykernel_14252/205715669.py\u001b[0m in \u001b[0;36m<module>\u001b[1;34m\u001b[0m\n\u001b[1;32m----> 1\u001b[1;33m \u001b[0mnp\u001b[0m\u001b[1;33m.\u001b[0m\u001b[0mconcatenate\u001b[0m\u001b[1;33m(\u001b[0m\u001b[1;33m(\u001b[0m\u001b[0mc\u001b[0m\u001b[1;33m,\u001b[0m\u001b[0ma\u001b[0m\u001b[1;33m)\u001b[0m\u001b[1;33m,\u001b[0m\u001b[0maxis\u001b[0m\u001b[1;33m=\u001b[0m\u001b[1;36m1\u001b[0m\u001b[1;33m)\u001b[0m\u001b[1;33m\u001b[0m\u001b[1;33m\u001b[0m\u001b[0m\n\u001b[0m",
      "\u001b[1;32m<__array_function__ internals>\u001b[0m in \u001b[0;36mconcatenate\u001b[1;34m(*args, **kwargs)\u001b[0m\n",
      "\u001b[1;31mValueError\u001b[0m: all the input array dimensions for the concatenation axis must match exactly, but along dimension 0, the array at index 0 has size 2 and the array at index 1 has size 1"
     ]
    }
   ],
   "source": [
    "np.concatenate((c,a),axis=1)"
   ]
  },
  {
   "cell_type": "code",
   "execution_count": 13,
   "id": "ed9594a0",
   "metadata": {},
   "outputs": [
    {
     "data": {
      "text/plain": [
       "array([[ 0,  1,  2,  6,  7,  8],\n",
       "       [ 3,  4,  5,  9, 10, 11]])"
      ]
     },
     "execution_count": 13,
     "metadata": {},
     "output_type": "execute_result"
    }
   ],
   "source": [
    "np.concatenate((c,d),axis=1)"
   ]
  },
  {
   "cell_type": "markdown",
   "id": "931181ca",
   "metadata": {},
   "source": [
    "# np.unique\n",
    "* With the help of np.unique() method, we can get the unique values from an array given as parameter in np.unique() method.\n",
    "\n",
    "https://numpy.org/doc/stable/reference/generated/numpy.unique.html/"
   ]
  },
  {
   "cell_type": "code",
   "execution_count": 14,
   "id": "45ac6a68",
   "metadata": {},
   "outputs": [],
   "source": [
    "# code\n",
    "e = np.array([1,1,2,2,3,3,4,4,5,5,6,6])"
   ]
  },
  {
   "cell_type": "code",
   "execution_count": 15,
   "id": "070795df",
   "metadata": {},
   "outputs": [
    {
     "data": {
      "text/plain": [
       "array([1, 2, 3, 4, 5, 6])"
      ]
     },
     "execution_count": 15,
     "metadata": {},
     "output_type": "execute_result"
    }
   ],
   "source": [
    "np.unique(e)"
   ]
  },
  {
   "cell_type": "markdown",
   "id": "9e72b546",
   "metadata": {},
   "source": [
    "# np.expand_dims\n",
    "* With the help of Numpy.expand_dims() method, we can get the expanded dimensions of an array\n",
    "\n",
    "https://numpy.org/doc/stable/reference/generated/numpy.expand_dims.html"
   ]
  },
  {
   "cell_type": "code",
   "execution_count": 21,
   "id": "12bca831",
   "metadata": {},
   "outputs": [
    {
     "data": {
      "text/plain": [
       "(1, 3)"
      ]
     },
     "execution_count": 21,
     "metadata": {},
     "output_type": "execute_result"
    }
   ],
   "source": [
    "# code\n",
    "a.shape"
   ]
  },
  {
   "cell_type": "code",
   "execution_count": 22,
   "id": "2b5370f9",
   "metadata": {},
   "outputs": [
    {
     "data": {
      "text/plain": [
       "(1, 1, 3)"
      ]
     },
     "execution_count": 22,
     "metadata": {},
     "output_type": "execute_result"
    }
   ],
   "source": [
    "np.expand_dims(a,axis=0).shape"
   ]
  },
  {
   "cell_type": "code",
   "execution_count": 23,
   "id": "b255b4db",
   "metadata": {},
   "outputs": [
    {
     "data": {
      "text/plain": [
       "array([[[0, 1, 2]]])"
      ]
     },
     "execution_count": 23,
     "metadata": {},
     "output_type": "execute_result"
    }
   ],
   "source": [
    "np.expand_dims(a,axis=1)"
   ]
  },
  {
   "cell_type": "markdown",
   "id": "0b1f76cd",
   "metadata": {},
   "source": [
    "# np.where\n",
    "The numpy.where() function returns the indices of elements in an input array where the given condition is satisfied.\n",
    "\n",
    "https://numpy.org/doc/stable/reference/generated/numpy.where.html"
   ]
  },
  {
   "cell_type": "code",
   "execution_count": 36,
   "id": "9047c8a4",
   "metadata": {},
   "outputs": [],
   "source": [
    "a = np.random.randint(1,25,15)"
   ]
  },
  {
   "cell_type": "code",
   "execution_count": 37,
   "id": "d2090cd2",
   "metadata": {},
   "outputs": [
    {
     "data": {
      "text/plain": [
       "array([18, 12,  1, 22,  9,  5, 16, 19, 21, 19, 23, 10,  8, 15,  5])"
      ]
     },
     "execution_count": 37,
     "metadata": {},
     "output_type": "execute_result"
    }
   ],
   "source": [
    "a"
   ]
  },
  {
   "cell_type": "code",
   "execution_count": 38,
   "id": "20fce7ff",
   "metadata": {},
   "outputs": [
    {
     "data": {
      "text/plain": [
       "(array([ 3,  8, 10], dtype=int64),)"
      ]
     },
     "execution_count": 38,
     "metadata": {},
     "output_type": "execute_result"
    }
   ],
   "source": [
    "# find all indices with value greater than 50\n",
    "np.where(a>20)"
   ]
  },
  {
   "cell_type": "code",
   "execution_count": 39,
   "id": "2ff2114d",
   "metadata": {},
   "outputs": [
    {
     "data": {
      "text/plain": [
       "array([18, 12,  1, 22,  9,  5, 16, 19, 21, 19, 23, 10,  8, 15,  5])"
      ]
     },
     "execution_count": 39,
     "metadata": {},
     "output_type": "execute_result"
    }
   ],
   "source": [
    "# replace all values > 50 with 0\n",
    "np.where(a>50,0,a)"
   ]
  },
  {
   "cell_type": "code",
   "execution_count": null,
   "id": "f5db70e5",
   "metadata": {},
   "outputs": [],
   "source": []
  }
 ],
 "metadata": {
  "kernelspec": {
   "display_name": "Python 3 (ipykernel)",
   "language": "python",
   "name": "python3"
  },
  "language_info": {
   "codemirror_mode": {
    "name": "ipython",
    "version": 3
   },
   "file_extension": ".py",
   "mimetype": "text/x-python",
   "name": "python",
   "nbconvert_exporter": "python",
   "pygments_lexer": "ipython3",
   "version": "3.10.0"
  }
 },
 "nbformat": 4,
 "nbformat_minor": 5
}
