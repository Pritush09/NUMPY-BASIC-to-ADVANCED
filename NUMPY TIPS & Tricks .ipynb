{
 "cells": [
  {
   "cell_type": "code",
   "execution_count": 1,
   "id": "84f19d36",
   "metadata": {},
   "outputs": [],
   "source": [
    "import numpy as np"
   ]
  },
  {
   "cell_type": "markdown",
   "id": "f72c86b8",
   "metadata": {},
   "source": [
    "# np.sort\n",
    "* Return a sorted copy of an array.\n",
    "\n",
    "https://numpy.org/doc/stable/reference/generated/numpy.sort.html"
   ]
  },
  {
   "cell_type": "code",
   "execution_count": 2,
   "id": "a53e62a1",
   "metadata": {},
   "outputs": [
    {
     "data": {
      "text/plain": [
       "array([92, 84, 39,  4, 94, 51, 62, 93, 91,  5, 80, 17, 45, 30, 23])"
      ]
     },
     "execution_count": 2,
     "metadata": {},
     "output_type": "execute_result"
    }
   ],
   "source": [
    "# code\n",
    "import numpy as np\n",
    "a = np.random.randint(1,100,15)\n",
    "a"
   ]
  },
  {
   "cell_type": "code",
   "execution_count": 3,
   "id": "cae49a91",
   "metadata": {},
   "outputs": [
    {
     "data": {
      "text/plain": [
       "array([[34, 12, 12, 14],\n",
       "       [49, 55, 84, 80],\n",
       "       [24, 47, 25, 22],\n",
       "       [98, 19, 87, 76],\n",
       "       [57, 36, 60, 66],\n",
       "       [65, 83, 22, 39]])"
      ]
     },
     "execution_count": 3,
     "metadata": {},
     "output_type": "execute_result"
    }
   ],
   "source": [
    "b = np.random.randint(1,100,24).reshape(6,4)\n",
    "b"
   ]
  },
  {
   "cell_type": "code",
   "execution_count": 4,
   "id": "edba4a8b",
   "metadata": {},
   "outputs": [
    {
     "data": {
      "text/plain": [
       "array([94, 93, 92, 91, 84, 80, 62, 51, 45, 39, 30, 23, 17,  5,  4])"
      ]
     },
     "execution_count": 4,
     "metadata": {},
     "output_type": "execute_result"
    }
   ],
   "source": [
    "np.sort(a)[::-1]"
   ]
  },
  {
   "cell_type": "code",
   "execution_count": 5,
   "id": "0f2716d2",
   "metadata": {},
   "outputs": [
    {
     "data": {
      "text/plain": [
       "array([[24, 12, 12, 14],\n",
       "       [34, 19, 22, 22],\n",
       "       [49, 36, 25, 39],\n",
       "       [57, 47, 60, 66],\n",
       "       [65, 55, 84, 76],\n",
       "       [98, 83, 87, 80]])"
      ]
     },
     "execution_count": 5,
     "metadata": {},
     "output_type": "execute_result"
    }
   ],
   "source": [
    "np.sort(b,axis=0)"
   ]
  },
  {
   "cell_type": "markdown",
   "id": "7989fa65",
   "metadata": {},
   "source": [
    "# np.append\n",
    "* The numpy.append() appends values along the mentioned axis at the end of the array\n",
    "\n",
    "https://numpy.org/doc/stable/reference/generated/numpy.append.html"
   ]
  },
  {
   "cell_type": "code",
   "execution_count": 6,
   "id": "0887e353",
   "metadata": {},
   "outputs": [
    {
     "data": {
      "text/plain": [
       "array([ 92,  84,  39,   4,  94,  51,  62,  93,  91,   5,  80,  17,  45,\n",
       "        30,  23, 200])"
      ]
     },
     "execution_count": 6,
     "metadata": {},
     "output_type": "execute_result"
    }
   ],
   "source": [
    "# code\n",
    "np.append(a,200)"
   ]
  },
  {
   "cell_type": "code",
   "execution_count": 7,
   "id": "cbbea737",
   "metadata": {},
   "outputs": [
    {
     "data": {
      "text/plain": [
       "array([[34, 12, 12, 14],\n",
       "       [49, 55, 84, 80],\n",
       "       [24, 47, 25, 22],\n",
       "       [98, 19, 87, 76],\n",
       "       [57, 36, 60, 66],\n",
       "       [65, 83, 22, 39]])"
      ]
     },
     "execution_count": 7,
     "metadata": {},
     "output_type": "execute_result"
    }
   ],
   "source": [
    "b"
   ]
  },
  {
   "cell_type": "code",
   "execution_count": 8,
   "id": "f279ec8c",
   "metadata": {},
   "outputs": [
    {
     "data": {
      "text/plain": [
       "array([[34.        , 12.        , 12.        , 14.        ,  0.15291189],\n",
       "       [49.        , 55.        , 84.        , 80.        ,  0.53204302],\n",
       "       [24.        , 47.        , 25.        , 22.        ,  0.3529014 ],\n",
       "       [98.        , 19.        , 87.        , 76.        ,  0.4338198 ],\n",
       "       [57.        , 36.        , 60.        , 66.        ,  0.90372434],\n",
       "       [65.        , 83.        , 22.        , 39.        ,  0.69394617]])"
      ]
     },
     "execution_count": 8,
     "metadata": {},
     "output_type": "execute_result"
    }
   ],
   "source": [
    "np.append(b,np.random.random((b.shape[0],1)),axis=1) # ye column wise he but axis rows ko match karna chahiye "
   ]
  },
  {
   "cell_type": "code",
   "execution_count": 10,
   "id": "1fa2eb53",
   "metadata": {},
   "outputs": [
    {
     "data": {
      "text/plain": [
       "array([[3.40000000e+01, 1.20000000e+01, 1.20000000e+01, 1.40000000e+01],\n",
       "       [4.90000000e+01, 5.50000000e+01, 8.40000000e+01, 8.00000000e+01],\n",
       "       [2.40000000e+01, 4.70000000e+01, 2.50000000e+01, 2.20000000e+01],\n",
       "       [9.80000000e+01, 1.90000000e+01, 8.70000000e+01, 7.60000000e+01],\n",
       "       [5.70000000e+01, 3.60000000e+01, 6.00000000e+01, 6.60000000e+01],\n",
       "       [6.50000000e+01, 8.30000000e+01, 2.20000000e+01, 3.90000000e+01],\n",
       "       [6.77947867e-01, 7.87505379e-01, 9.13865497e-01, 2.30291762e-01],\n",
       "       [3.46106804e-01, 5.10818406e-01, 2.72660262e-01, 5.77591231e-03]])"
      ]
     },
     "execution_count": 10,
     "metadata": {},
     "output_type": "execute_result"
    }
   ],
   "source": [
    "np.append(b,np.random.random((2,b.shape[1])),axis=0) \n",
    "# ye row wise addition he but axis column ko match karna chahiye"
   ]
  },
  {
   "cell_type": "markdown",
   "id": "ecc037be",
   "metadata": {},
   "source": [
    "# np.concatenate\n",
    "* numpy.concatenate() function concatenate a sequence of arrays along an existing axis.\n",
    "\n",
    "https://numpy.org/doc/stable/reference/generated/numpy.concatenate.html"
   ]
  },
  {
   "cell_type": "code",
   "execution_count": 16,
   "id": "00907807",
   "metadata": {},
   "outputs": [
    {
     "name": "stdout",
     "output_type": "stream",
     "text": [
      "[[0 1 2]\n",
      " [3 4 5]]\n",
      "[[ 6  7  8]\n",
      " [ 9 10 11]]\n"
     ]
    }
   ],
   "source": [
    "# code\n",
    "c = np.arange(6).reshape(2,3)\n",
    "d = np.arange(6,12).reshape(2,3)\n",
    "a = np.arange(3).reshape(1,3)\n",
    "print(c)\n",
    "print(d)"
   ]
  },
  {
   "cell_type": "code",
   "execution_count": 12,
   "id": "c49de877",
   "metadata": {},
   "outputs": [
    {
     "data": {
      "text/plain": [
       "array([[ 0,  1,  2],\n",
       "       [ 3,  4,  5],\n",
       "       [ 6,  7,  8],\n",
       "       [ 9, 10, 11]])"
      ]
     },
     "execution_count": 12,
     "metadata": {},
     "output_type": "execute_result"
    }
   ],
   "source": [
    "np.concatenate((c,d),axis=0)"
   ]
  },
  {
   "cell_type": "code",
   "execution_count": 20,
   "id": "74ab6266",
   "metadata": {},
   "outputs": [
    {
     "data": {
      "text/plain": [
       "array([[0, 1, 2],\n",
       "       [3, 4, 5],\n",
       "       [0, 1, 2]])"
      ]
     },
     "execution_count": 20,
     "metadata": {},
     "output_type": "execute_result"
    }
   ],
   "source": [
    "np.concatenate((c,a),axis=0)"
   ]
  },
  {
   "cell_type": "code",
   "execution_count": 18,
   "id": "d309cbaa",
   "metadata": {},
   "outputs": [
    {
     "ename": "ValueError",
     "evalue": "all the input array dimensions for the concatenation axis must match exactly, but along dimension 0, the array at index 0 has size 2 and the array at index 1 has size 1",
     "output_type": "error",
     "traceback": [
      "\u001b[1;31m---------------------------------------------------------------------------\u001b[0m",
      "\u001b[1;31mValueError\u001b[0m                                Traceback (most recent call last)",
      "\u001b[1;32m~\\AppData\\Local\\Temp/ipykernel_14252/205715669.py\u001b[0m in \u001b[0;36m<module>\u001b[1;34m\u001b[0m\n\u001b[1;32m----> 1\u001b[1;33m \u001b[0mnp\u001b[0m\u001b[1;33m.\u001b[0m\u001b[0mconcatenate\u001b[0m\u001b[1;33m(\u001b[0m\u001b[1;33m(\u001b[0m\u001b[0mc\u001b[0m\u001b[1;33m,\u001b[0m\u001b[0ma\u001b[0m\u001b[1;33m)\u001b[0m\u001b[1;33m,\u001b[0m\u001b[0maxis\u001b[0m\u001b[1;33m=\u001b[0m\u001b[1;36m1\u001b[0m\u001b[1;33m)\u001b[0m\u001b[1;33m\u001b[0m\u001b[1;33m\u001b[0m\u001b[0m\n\u001b[0m",
      "\u001b[1;32m<__array_function__ internals>\u001b[0m in \u001b[0;36mconcatenate\u001b[1;34m(*args, **kwargs)\u001b[0m\n",
      "\u001b[1;31mValueError\u001b[0m: all the input array dimensions for the concatenation axis must match exactly, but along dimension 0, the array at index 0 has size 2 and the array at index 1 has size 1"
     ]
    }
   ],
   "source": [
    "np.concatenate((c,a),axis=1)"
   ]
  },
  {
   "cell_type": "code",
   "execution_count": 13,
   "id": "0335e1ff",
   "metadata": {},
   "outputs": [
    {
     "data": {
      "text/plain": [
       "array([[ 0,  1,  2,  6,  7,  8],\n",
       "       [ 3,  4,  5,  9, 10, 11]])"
      ]
     },
     "execution_count": 13,
     "metadata": {},
     "output_type": "execute_result"
    }
   ],
   "source": [
    "np.concatenate((c,d),axis=1)"
   ]
  },
  {
   "cell_type": "markdown",
   "id": "edf09bdc",
   "metadata": {},
   "source": [
    "# np.unique\n",
    "* With the help of np.unique() method, we can get the unique values from an array given as parameter in np.unique() method.\n",
    "\n",
    "https://numpy.org/doc/stable/reference/generated/numpy.unique.html/"
   ]
  },
  {
   "cell_type": "code",
   "execution_count": 14,
   "id": "27dca08b",
   "metadata": {},
   "outputs": [],
   "source": [
    "# code\n",
    "e = np.array([1,1,2,2,3,3,4,4,5,5,6,6])"
   ]
  },
  {
   "cell_type": "code",
   "execution_count": 15,
   "id": "664230d8",
   "metadata": {},
   "outputs": [
    {
     "data": {
      "text/plain": [
       "array([1, 2, 3, 4, 5, 6])"
      ]
     },
     "execution_count": 15,
     "metadata": {},
     "output_type": "execute_result"
    }
   ],
   "source": [
    "np.unique(e)"
   ]
  },
  {
   "cell_type": "markdown",
   "id": "b3c495fb",
   "metadata": {},
   "source": [
    "# np.expand_dims\n",
    "* With the help of Numpy.expand_dims() method, we can get the expanded dimensions of an array\n",
    "\n",
    "https://numpy.org/doc/stable/reference/generated/numpy.expand_dims.html"
   ]
  },
  {
   "cell_type": "code",
   "execution_count": 21,
   "id": "5ac9ec9a",
   "metadata": {},
   "outputs": [
    {
     "data": {
      "text/plain": [
       "(1, 3)"
      ]
     },
     "execution_count": 21,
     "metadata": {},
     "output_type": "execute_result"
    }
   ],
   "source": [
    "# code\n",
    "a.shape"
   ]
  },
  {
   "cell_type": "code",
   "execution_count": 22,
   "id": "66602593",
   "metadata": {},
   "outputs": [
    {
     "data": {
      "text/plain": [
       "(1, 1, 3)"
      ]
     },
     "execution_count": 22,
     "metadata": {},
     "output_type": "execute_result"
    }
   ],
   "source": [
    "np.expand_dims(a,axis=0).shape"
   ]
  },
  {
   "cell_type": "code",
   "execution_count": 23,
   "id": "ecb77c2f",
   "metadata": {},
   "outputs": [
    {
     "data": {
      "text/plain": [
       "array([[[0, 1, 2]]])"
      ]
     },
     "execution_count": 23,
     "metadata": {},
     "output_type": "execute_result"
    }
   ],
   "source": [
    "np.expand_dims(a,axis=1)"
   ]
  },
  {
   "cell_type": "markdown",
   "id": "53d98dcd",
   "metadata": {},
   "source": [
    "# np.where\n",
    "The numpy.where() function returns the indices of elements in an input array where the given condition is satisfied.\n",
    "\n",
    "https://numpy.org/doc/stable/reference/generated/numpy.where.html"
   ]
  },
  {
   "cell_type": "code",
   "execution_count": 36,
   "id": "abac3cd2",
   "metadata": {},
   "outputs": [],
   "source": [
    "a = np.random.randint(1,25,15)"
   ]
  },
  {
   "cell_type": "code",
   "execution_count": 41,
   "id": "850df18b",
   "metadata": {},
   "outputs": [
    {
     "data": {
      "text/plain": [
       "array([18, 12,  1, 22,  9,  5, 16, 19, 21, 19, 23, 10,  8, 15,  5])"
      ]
     },
     "execution_count": 41,
     "metadata": {},
     "output_type": "execute_result"
    }
   ],
   "source": [
    "a"
   ]
  },
  {
   "cell_type": "code",
   "execution_count": null,
   "id": "8c2d8f4c",
   "metadata": {},
   "outputs": [],
   "source": [
    "# np.where(condition,(if condition is true),(if condition is false))"
   ]
  },
  {
   "cell_type": "code",
   "execution_count": 38,
   "id": "ff5d7478",
   "metadata": {},
   "outputs": [
    {
     "data": {
      "text/plain": [
       "(array([ 3,  8, 10], dtype=int64),)"
      ]
     },
     "execution_count": 38,
     "metadata": {},
     "output_type": "execute_result"
    }
   ],
   "source": [
    "# find all indices with value greater than 50\n",
    "np.where(a>20)"
   ]
  },
  {
   "cell_type": "code",
   "execution_count": 39,
   "id": "afad9850",
   "metadata": {},
   "outputs": [
    {
     "data": {
      "text/plain": [
       "array([18, 12,  1, 22,  9,  5, 16, 19, 21, 19, 23, 10,  8, 15,  5])"
      ]
     },
     "execution_count": 39,
     "metadata": {},
     "output_type": "execute_result"
    }
   ],
   "source": [
    "# replace all values > 50 with 0\n",
    "np.where(a>50,0,a)"
   ]
  },
  {
   "cell_type": "code",
   "execution_count": 43,
   "id": "461d64bd",
   "metadata": {},
   "outputs": [
    {
     "data": {
      "text/plain": [
       "array([ 0,  0,  1, 22,  0,  5, 16, 19,  0, 19, 23, 10,  8,  0,  5])"
      ]
     },
     "execution_count": 43,
     "metadata": {},
     "output_type": "execute_result"
    }
   ],
   "source": [
    "np.where(a%3 == 0,0,a)"
   ]
  },
  {
   "cell_type": "markdown",
   "id": "a9d3c7e9",
   "metadata": {},
   "source": [
    "# np.argmax\n",
    "The numpy.argmax() function returns indices of the max element of the array in a particular axis.\n",
    "\n",
    "https://numpy.org/doc/stable/reference/generated/numpy.argmax.html"
   ]
  },
  {
   "cell_type": "code",
   "execution_count": 46,
   "id": "7be3971a",
   "metadata": {},
   "outputs": [
    {
     "data": {
      "text/plain": [
       "array([18, 12,  1, 22,  9,  5, 16, 19, 21, 19, 23, 10,  8, 15,  5])"
      ]
     },
     "execution_count": 46,
     "metadata": {},
     "output_type": "execute_result"
    }
   ],
   "source": [
    "# code\n",
    "a"
   ]
  },
  {
   "cell_type": "code",
   "execution_count": 48,
   "id": "f031641e",
   "metadata": {},
   "outputs": [
    {
     "data": {
      "text/plain": [
       "(10, 23)"
      ]
     },
     "execution_count": 48,
     "metadata": {},
     "output_type": "execute_result"
    }
   ],
   "source": [
    "np.argmax(a) , a[10]"
   ]
  },
  {
   "cell_type": "code",
   "execution_count": 49,
   "id": "7b3389bd",
   "metadata": {},
   "outputs": [
    {
     "data": {
      "text/plain": [
       "array([[34, 12, 12, 14],\n",
       "       [49, 55, 84, 80],\n",
       "       [24, 47, 25, 22],\n",
       "       [98, 19, 87, 76],\n",
       "       [57, 36, 60, 66],\n",
       "       [65, 83, 22, 39]])"
      ]
     },
     "execution_count": 49,
     "metadata": {},
     "output_type": "execute_result"
    }
   ],
   "source": [
    "b"
   ]
  },
  {
   "cell_type": "code",
   "execution_count": 51,
   "id": "ce9aadd0",
   "metadata": {},
   "outputs": [
    {
     "data": {
      "text/plain": [
       "array([3, 5, 3, 1], dtype=int64)"
      ]
     },
     "execution_count": 51,
     "metadata": {},
     "output_type": "execute_result"
    }
   ],
   "source": [
    "np.argmax(b,axis=0) # column wise sabse bada element ka index batata h"
   ]
  },
  {
   "cell_type": "code",
   "execution_count": 52,
   "id": "a0a3c3fc",
   "metadata": {},
   "outputs": [
    {
     "data": {
      "text/plain": [
       "array([0, 2, 1, 0, 3, 1], dtype=int64)"
      ]
     },
     "execution_count": 52,
     "metadata": {},
     "output_type": "execute_result"
    }
   ],
   "source": [
    "np.argmax(b,axis=1)"
   ]
  },
  {
   "cell_type": "code",
   "execution_count": 53,
   "id": "bb742420",
   "metadata": {},
   "outputs": [
    {
     "data": {
      "text/plain": [
       "2"
      ]
     },
     "execution_count": 53,
     "metadata": {},
     "output_type": "execute_result"
    }
   ],
   "source": [
    "# np.argmin\n",
    "np.argmin(a)"
   ]
  },
  {
   "cell_type": "markdown",
   "id": "ec2db308",
   "metadata": {},
   "source": [
    "# np.cumsum\n",
    "numpy.cumsum() function is used when we want to compute the cumulative sum of array elements over a given axis.\n",
    "\n",
    "https://numpy.org/doc/stable/reference/generated/numpy.cumsum.html"
   ]
  },
  {
   "cell_type": "code",
   "execution_count": 54,
   "id": "277340e0",
   "metadata": {},
   "outputs": [
    {
     "data": {
      "text/plain": [
       "array([18, 12,  1, 22,  9,  5, 16, 19, 21, 19, 23, 10,  8, 15,  5])"
      ]
     },
     "execution_count": 54,
     "metadata": {},
     "output_type": "execute_result"
    }
   ],
   "source": [
    "a"
   ]
  },
  {
   "cell_type": "code",
   "execution_count": 55,
   "id": "99f4d2e1",
   "metadata": {},
   "outputs": [
    {
     "data": {
      "text/plain": [
       "array([ 18,  30,  31,  53,  62,  67,  83, 102, 123, 142, 165, 175, 183,\n",
       "       198, 203], dtype=int32)"
      ]
     },
     "execution_count": 55,
     "metadata": {},
     "output_type": "execute_result"
    }
   ],
   "source": [
    "np.cumsum(a)"
   ]
  },
  {
   "cell_type": "code",
   "execution_count": 56,
   "id": "f7153246",
   "metadata": {},
   "outputs": [
    {
     "data": {
      "text/plain": [
       "array([[34, 12, 12, 14],\n",
       "       [49, 55, 84, 80],\n",
       "       [24, 47, 25, 22],\n",
       "       [98, 19, 87, 76],\n",
       "       [57, 36, 60, 66],\n",
       "       [65, 83, 22, 39]])"
      ]
     },
     "execution_count": 56,
     "metadata": {},
     "output_type": "execute_result"
    }
   ],
   "source": [
    "b"
   ]
  },
  {
   "cell_type": "code",
   "execution_count": 57,
   "id": "4dd57127",
   "metadata": {},
   "outputs": [
    {
     "data": {
      "text/plain": [
       "array([[ 34,  46,  58,  72],\n",
       "       [ 49, 104, 188, 268],\n",
       "       [ 24,  71,  96, 118],\n",
       "       [ 98, 117, 204, 280],\n",
       "       [ 57,  93, 153, 219],\n",
       "       [ 65, 148, 170, 209]], dtype=int32)"
      ]
     },
     "execution_count": 57,
     "metadata": {},
     "output_type": "execute_result"
    }
   ],
   "source": [
    "np.cumsum(b,axis=1)"
   ]
  },
  {
   "cell_type": "code",
   "execution_count": 58,
   "id": "3a848248",
   "metadata": {},
   "outputs": [
    {
     "data": {
      "text/plain": [
       "array([[ 34,  12,  12,  14],\n",
       "       [ 83,  67,  96,  94],\n",
       "       [107, 114, 121, 116],\n",
       "       [205, 133, 208, 192],\n",
       "       [262, 169, 268, 258],\n",
       "       [327, 252, 290, 297]], dtype=int32)"
      ]
     },
     "execution_count": 58,
     "metadata": {},
     "output_type": "execute_result"
    }
   ],
   "source": [
    "np.cumsum(b,axis=0)"
   ]
  },
  {
   "cell_type": "code",
   "execution_count": 59,
   "id": "38ea8ada",
   "metadata": {},
   "outputs": [
    {
     "data": {
      "text/plain": [
       "array([  34,   46,   58,   72,  121,  176,  260,  340,  364,  411,  436,\n",
       "        458,  556,  575,  662,  738,  795,  831,  891,  957, 1022, 1105,\n",
       "       1127, 1166], dtype=int32)"
      ]
     },
     "execution_count": 59,
     "metadata": {},
     "output_type": "execute_result"
    }
   ],
   "source": [
    "np.cumsum(b)"
   ]
  },
  {
   "cell_type": "code",
   "execution_count": 60,
   "id": "507fee5f",
   "metadata": {},
   "outputs": [
    {
     "data": {
      "text/plain": [
       "array([        18,        216,        216,       4752,      42768,\n",
       "           213840,    3421440,   65007360, 1365154560,  168132864,\n",
       "       -427911424,   15853056,  126824448, 1902366720,  921899008],\n",
       "      dtype=int32)"
      ]
     },
     "execution_count": 60,
     "metadata": {},
     "output_type": "execute_result"
    }
   ],
   "source": [
    "# np.cumprod\n",
    "np.cumprod(a)"
   ]
  },
  {
   "cell_type": "code",
   "execution_count": 61,
   "id": "b22a067d",
   "metadata": {},
   "outputs": [
    {
     "data": {
      "text/plain": [
       "array([18, 12,  1, 22,  9,  5, 16, 19, 21, 19, 23, 10,  8, 15,  5])"
      ]
     },
     "execution_count": 61,
     "metadata": {},
     "output_type": "execute_result"
    }
   ],
   "source": [
    "a"
   ]
  },
  {
   "cell_type": "markdown",
   "id": "fef60ee8",
   "metadata": {},
   "source": [
    "# np.percentile\n",
    "numpy.percentile()function used to compute the nth percentile of the given data (array elements) along the specified axis.\n",
    "\n",
    "https://numpy.org/doc/stable/reference/generated/numpy.percentile.html"
   ]
  },
  {
   "cell_type": "code",
   "execution_count": 62,
   "id": "a751edd2",
   "metadata": {},
   "outputs": [
    {
     "data": {
      "text/plain": [
       "array([18, 12,  1, 22,  9,  5, 16, 19, 21, 19, 23, 10,  8, 15,  5])"
      ]
     },
     "execution_count": 62,
     "metadata": {},
     "output_type": "execute_result"
    }
   ],
   "source": [
    "a"
   ]
  },
  {
   "cell_type": "code",
   "execution_count": 63,
   "id": "2d8d568e",
   "metadata": {},
   "outputs": [
    {
     "data": {
      "text/plain": [
       "15.0"
      ]
     },
     "execution_count": 63,
     "metadata": {},
     "output_type": "execute_result"
    }
   ],
   "source": [
    "np.percentile(a,50)"
   ]
  },
  {
   "cell_type": "code",
   "execution_count": 64,
   "id": "736f1e89",
   "metadata": {},
   "outputs": [
    {
     "data": {
      "text/plain": [
       "15.0"
      ]
     },
     "execution_count": 64,
     "metadata": {},
     "output_type": "execute_result"
    }
   ],
   "source": [
    "np.median(a)"
   ]
  },
  {
   "cell_type": "markdown",
   "id": "8c2e7a3e",
   "metadata": {},
   "source": [
    "# np.histogram\n",
    "Numpy has a built-in numpy.histogram() function which represents the frequency of data distribution in the graphical form.\n",
    "\n",
    "https://numpy.org/doc/stable/reference/generated/numpy.histogram.html"
   ]
  },
  {
   "cell_type": "code",
   "execution_count": 65,
   "id": "b5d9b562",
   "metadata": {},
   "outputs": [
    {
     "data": {
      "text/plain": [
       "array([18, 12,  1, 22,  9,  5, 16, 19, 21, 19, 23, 10,  8, 15,  5])"
      ]
     },
     "execution_count": 65,
     "metadata": {},
     "output_type": "execute_result"
    }
   ],
   "source": [
    "a"
   ]
  },
  {
   "cell_type": "code",
   "execution_count": 66,
   "id": "0d9fd690",
   "metadata": {},
   "outputs": [
    {
     "data": {
      "text/plain": [
       "(array([15,  0], dtype=int64), array([  0,  50, 100]))"
      ]
     },
     "execution_count": 66,
     "metadata": {},
     "output_type": "execute_result"
    }
   ],
   "source": [
    "np.histogram(a,bins=[0,50,100])"
   ]
  },
  {
   "cell_type": "markdown",
   "id": "96f6bdeb",
   "metadata": {},
   "source": [
    "# np.corrcoef\n",
    "Return Pearson product-moment correlation coefficients.\n",
    "\n",
    "https://numpy.org/doc/stable/reference/generated/numpy.corrcoef.html"
   ]
  },
  {
   "cell_type": "code",
   "execution_count": 73,
   "id": "170c4fd5",
   "metadata": {},
   "outputs": [
    {
     "data": {
      "text/plain": [
       "array([[1.        , 0.75375162],\n",
       "       [0.75375162, 1.        ]])"
      ]
     },
     "execution_count": 73,
     "metadata": {},
     "output_type": "execute_result"
    }
   ],
   "source": [
    "salary = np.array([20000,40000,25000,35000,60000])\n",
    "experience = np.array([1,5,1.5,1.8,4])\n",
    "\n",
    "np.corrcoef(salary,experience)"
   ]
  },
  {
   "cell_type": "markdown",
   "id": "a9f8d0da",
   "metadata": {},
   "source": [
    "# np.isin\n",
    "With the help of numpy.isin() method, we can see that one array having values are checked in a different numpy array having different elements with different sizes.\n",
    "\n",
    "https://numpy.org/doc/stable/reference/generated/numpy.isin.html"
   ]
  },
  {
   "cell_type": "code",
   "execution_count": 68,
   "id": "94bed4c2",
   "metadata": {},
   "outputs": [
    {
     "data": {
      "text/plain": [
       "array([18, 12,  1, 22,  9,  5, 16, 19, 21, 19, 23, 10,  8, 15,  5])"
      ]
     },
     "execution_count": 68,
     "metadata": {},
     "output_type": "execute_result"
    }
   ],
   "source": [
    "a"
   ]
  },
  {
   "cell_type": "code",
   "execution_count": 69,
   "id": "43e82fe0",
   "metadata": {},
   "outputs": [
    {
     "data": {
      "text/plain": [
       "array([10])"
      ]
     },
     "execution_count": 69,
     "metadata": {},
     "output_type": "execute_result"
    }
   ],
   "source": [
    "items = [10,20,30,40,50,60,70,80,90,100]\n",
    "\n",
    "a[np.isin(a,items)]"
   ]
  },
  {
   "cell_type": "code",
   "execution_count": null,
   "id": "2e37207c",
   "metadata": {},
   "outputs": [],
   "source": []
  }
 ],
 "metadata": {
  "kernelspec": {
   "display_name": "Python 3 (ipykernel)",
   "language": "python",
   "name": "python3"
  },
  "language_info": {
   "codemirror_mode": {
    "name": "ipython",
    "version": 3
   },
   "file_extension": ".py",
   "mimetype": "text/x-python",
   "name": "python",
   "nbconvert_exporter": "python",
   "pygments_lexer": "ipython3",
   "version": "3.10.0"
  }
 },
 "nbformat": 4,
 "nbformat_minor": 5
}
