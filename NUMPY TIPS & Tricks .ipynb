{
 "cells": [
  {
   "cell_type": "code",
   "execution_count": 1,
   "id": "7bb36d9d",
   "metadata": {},
   "outputs": [],
   "source": [
    "import numpy as np"
   ]
  },
  {
   "cell_type": "markdown",
   "id": "e7893ebc",
   "metadata": {},
   "source": [
    "# np.sort\n",
    "* Return a sorted copy of an array.\n",
    "\n",
    "https://numpy.org/doc/stable/reference/generated/numpy.sort.html"
   ]
  },
  {
   "cell_type": "code",
   "execution_count": 2,
   "id": "d2f02c32",
   "metadata": {},
   "outputs": [
    {
     "data": {
      "text/plain": [
       "array([92, 84, 39,  4, 94, 51, 62, 93, 91,  5, 80, 17, 45, 30, 23])"
      ]
     },
     "execution_count": 2,
     "metadata": {},
     "output_type": "execute_result"
    }
   ],
   "source": [
    "# code\n",
    "import numpy as np\n",
    "a = np.random.randint(1,100,15)\n",
    "a"
   ]
  },
  {
   "cell_type": "code",
   "execution_count": 3,
   "id": "648ef466",
   "metadata": {},
   "outputs": [
    {
     "data": {
      "text/plain": [
       "array([[34, 12, 12, 14],\n",
       "       [49, 55, 84, 80],\n",
       "       [24, 47, 25, 22],\n",
       "       [98, 19, 87, 76],\n",
       "       [57, 36, 60, 66],\n",
       "       [65, 83, 22, 39]])"
      ]
     },
     "execution_count": 3,
     "metadata": {},
     "output_type": "execute_result"
    }
   ],
   "source": [
    "b = np.random.randint(1,100,24).reshape(6,4)\n",
    "b"
   ]
  },
  {
   "cell_type": "code",
   "execution_count": 4,
   "id": "03c3fe7c",
   "metadata": {},
   "outputs": [
    {
     "data": {
      "text/plain": [
       "array([94, 93, 92, 91, 84, 80, 62, 51, 45, 39, 30, 23, 17,  5,  4])"
      ]
     },
     "execution_count": 4,
     "metadata": {},
     "output_type": "execute_result"
    }
   ],
   "source": [
    "np.sort(a)[::-1]"
   ]
  },
  {
   "cell_type": "code",
   "execution_count": 5,
   "id": "fe1a1ab5",
   "metadata": {},
   "outputs": [
    {
     "data": {
      "text/plain": [
       "array([[24, 12, 12, 14],\n",
       "       [34, 19, 22, 22],\n",
       "       [49, 36, 25, 39],\n",
       "       [57, 47, 60, 66],\n",
       "       [65, 55, 84, 76],\n",
       "       [98, 83, 87, 80]])"
      ]
     },
     "execution_count": 5,
     "metadata": {},
     "output_type": "execute_result"
    }
   ],
   "source": [
    "np.sort(b,axis=0)"
   ]
  },
  {
   "cell_type": "markdown",
   "id": "8eba7ac0",
   "metadata": {},
   "source": [
    "# np.append\n",
    "* The numpy.append() appends values along the mentioned axis at the end of the array\n",
    "\n",
    "https://numpy.org/doc/stable/reference/generated/numpy.append.html"
   ]
  },
  {
   "cell_type": "code",
   "execution_count": 6,
   "id": "f7ef4277",
   "metadata": {},
   "outputs": [
    {
     "data": {
      "text/plain": [
       "array([ 92,  84,  39,   4,  94,  51,  62,  93,  91,   5,  80,  17,  45,\n",
       "        30,  23, 200])"
      ]
     },
     "execution_count": 6,
     "metadata": {},
     "output_type": "execute_result"
    }
   ],
   "source": [
    "# code\n",
    "np.append(a,200)"
   ]
  },
  {
   "cell_type": "code",
   "execution_count": 7,
   "id": "9577d07b",
   "metadata": {},
   "outputs": [
    {
     "data": {
      "text/plain": [
       "array([[34, 12, 12, 14],\n",
       "       [49, 55, 84, 80],\n",
       "       [24, 47, 25, 22],\n",
       "       [98, 19, 87, 76],\n",
       "       [57, 36, 60, 66],\n",
       "       [65, 83, 22, 39]])"
      ]
     },
     "execution_count": 7,
     "metadata": {},
     "output_type": "execute_result"
    }
   ],
   "source": [
    "b"
   ]
  },
  {
   "cell_type": "code",
   "execution_count": 8,
   "id": "caee3251",
   "metadata": {},
   "outputs": [
    {
     "data": {
      "text/plain": [
       "array([[34.        , 12.        , 12.        , 14.        ,  0.15291189],\n",
       "       [49.        , 55.        , 84.        , 80.        ,  0.53204302],\n",
       "       [24.        , 47.        , 25.        , 22.        ,  0.3529014 ],\n",
       "       [98.        , 19.        , 87.        , 76.        ,  0.4338198 ],\n",
       "       [57.        , 36.        , 60.        , 66.        ,  0.90372434],\n",
       "       [65.        , 83.        , 22.        , 39.        ,  0.69394617]])"
      ]
     },
     "execution_count": 8,
     "metadata": {},
     "output_type": "execute_result"
    }
   ],
   "source": [
    "np.append(b,np.random.random((b.shape[0],1)),axis=1) # ye column wise he but axis rows ko match karna chahiye "
   ]
  },
  {
   "cell_type": "code",
   "execution_count": 10,
   "id": "214bd8a9",
   "metadata": {},
   "outputs": [
    {
     "data": {
      "text/plain": [
       "array([[3.40000000e+01, 1.20000000e+01, 1.20000000e+01, 1.40000000e+01],\n",
       "       [4.90000000e+01, 5.50000000e+01, 8.40000000e+01, 8.00000000e+01],\n",
       "       [2.40000000e+01, 4.70000000e+01, 2.50000000e+01, 2.20000000e+01],\n",
       "       [9.80000000e+01, 1.90000000e+01, 8.70000000e+01, 7.60000000e+01],\n",
       "       [5.70000000e+01, 3.60000000e+01, 6.00000000e+01, 6.60000000e+01],\n",
       "       [6.50000000e+01, 8.30000000e+01, 2.20000000e+01, 3.90000000e+01],\n",
       "       [6.77947867e-01, 7.87505379e-01, 9.13865497e-01, 2.30291762e-01],\n",
       "       [3.46106804e-01, 5.10818406e-01, 2.72660262e-01, 5.77591231e-03]])"
      ]
     },
     "execution_count": 10,
     "metadata": {},
     "output_type": "execute_result"
    }
   ],
   "source": [
    "np.append(b,np.random.random((2,b.shape[1])),axis=0) \n",
    "# ye row wise addition he but axis column ko match karna chahiye"
   ]
  },
  {
   "cell_type": "markdown",
   "id": "3502f74d",
   "metadata": {},
   "source": [
    "# np.concatenate\n",
    "* numpy.concatenate() function concatenate a sequence of arrays along an existing axis.\n",
    "\n",
    "https://numpy.org/doc/stable/reference/generated/numpy.concatenate.html"
   ]
  },
  {
   "cell_type": "code",
   "execution_count": 11,
   "id": "4b30d5e3",
   "metadata": {},
   "outputs": [
    {
     "name": "stdout",
     "output_type": "stream",
     "text": [
      "[[0 1 2]\n",
      " [3 4 5]]\n",
      "[[ 6  7  8]\n",
      " [ 9 10 11]]\n"
     ]
    }
   ],
   "source": [
    "# code\n",
    "c = np.arange(6).reshape(2,3)\n",
    "d = np.arange(6,12).reshape(2,3)\n",
    "\n",
    "print(c)\n",
    "print(d)"
   ]
  },
  {
   "cell_type": "code",
   "execution_count": 12,
   "id": "b95825c6",
   "metadata": {},
   "outputs": [
    {
     "data": {
      "text/plain": [
       "array([[ 0,  1,  2],\n",
       "       [ 3,  4,  5],\n",
       "       [ 6,  7,  8],\n",
       "       [ 9, 10, 11]])"
      ]
     },
     "execution_count": 12,
     "metadata": {},
     "output_type": "execute_result"
    }
   ],
   "source": [
    "np.concatenate((c,d),axis=0)"
   ]
  },
  {
   "cell_type": "code",
   "execution_count": 13,
   "id": "870d3ac7",
   "metadata": {},
   "outputs": [
    {
     "data": {
      "text/plain": [
       "array([[ 0,  1,  2,  6,  7,  8],\n",
       "       [ 3,  4,  5,  9, 10, 11]])"
      ]
     },
     "execution_count": 13,
     "metadata": {},
     "output_type": "execute_result"
    }
   ],
   "source": [
    "np.concatenate((c,d),axis=1)"
   ]
  },
  {
   "cell_type": "code",
   "execution_count": null,
   "id": "919830cb",
   "metadata": {},
   "outputs": [],
   "source": []
  }
 ],
 "metadata": {
  "kernelspec": {
   "display_name": "Python 3 (ipykernel)",
   "language": "python",
   "name": "python3"
  },
  "language_info": {
   "codemirror_mode": {
    "name": "ipython",
    "version": 3
   },
   "file_extension": ".py",
   "mimetype": "text/x-python",
   "name": "python",
   "nbconvert_exporter": "python",
   "pygments_lexer": "ipython3",
   "version": "3.10.0"
  }
 },
 "nbformat": 4,
 "nbformat_minor": 5
}
