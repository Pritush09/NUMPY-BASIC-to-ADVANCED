{
 "cells": [
  {
   "cell_type": "code",
   "execution_count": 3,
   "id": "0f100a52",
   "metadata": {},
   "outputs": [],
   "source": [
    "import numpy as np"
   ]
  },
  {
   "cell_type": "markdown",
   "id": "b6d6452a",
   "metadata": {},
   "source": [
    "# Creation of the numpy array"
   ]
  },
  {
   "cell_type": "code",
   "execution_count": 6,
   "id": "21f2a126",
   "metadata": {},
   "outputs": [
    {
     "data": {
      "text/plain": [
       "numpy.ndarray"
      ]
     },
     "execution_count": 6,
     "metadata": {},
     "output_type": "execute_result"
    }
   ],
   "source": [
    "type(np.array([1,2,3]))"
   ]
  },
  {
   "cell_type": "code",
   "execution_count": 10,
   "id": "336b2a87",
   "metadata": {},
   "outputs": [
    {
     "data": {
      "text/plain": [
       "array([[1, 2, 3],\n",
       "       [1, 2, 3]])"
      ]
     },
     "execution_count": 10,
     "metadata": {},
     "output_type": "execute_result"
    }
   ],
   "source": [
    "# 2d array\n",
    "td = np.array([[1,2,3],[1,2,3]])\n",
    "td"
   ]
  },
  {
   "cell_type": "code",
   "execution_count": 12,
   "id": "0731399b",
   "metadata": {},
   "outputs": [
    {
     "data": {
      "text/plain": [
       "array([[[1, 2, 3],\n",
       "        [2, 3, 4]],\n",
       "\n",
       "       [[1, 2, 3],\n",
       "        [2, 3, 4]]])"
      ]
     },
     "execution_count": 12,
     "metadata": {},
     "output_type": "execute_result"
    }
   ],
   "source": [
    "# 3d \n",
    "thrd = np.array([[[1,2,3],[2,3,4]],[[1,2,3],[2,3,4]]])\n",
    "thrd  # also called as tensors"
   ]
  },
  {
   "cell_type": "code",
   "execution_count": 15,
   "id": "1f366b02",
   "metadata": {},
   "outputs": [
    {
     "data": {
      "text/plain": [
       "dtype('float32')"
      ]
     },
     "execution_count": 15,
     "metadata": {},
     "output_type": "execute_result"
    }
   ],
   "source": [
    "# dtype array\n",
    "np.array([1,2,3],dtype='float32')\n",
    "np.array([1,2,3],dtype='float32').dtype"
   ]
  },
  {
   "cell_type": "code",
   "execution_count": 16,
   "id": "2273b272",
   "metadata": {},
   "outputs": [
    {
     "data": {
      "text/plain": [
       "array([1.+0.j, 2.+0.j, 3.+0.j])"
      ]
     },
     "execution_count": 16,
     "metadata": {},
     "output_type": "execute_result"
    }
   ],
   "source": [
    "np.array([1,2,3],dtype=complex)"
   ]
  },
  {
   "cell_type": "code",
   "execution_count": 19,
   "id": "37ea4740",
   "metadata": {},
   "outputs": [
    {
     "data": {
      "text/plain": [
       "array([1, 3, 5, 7, 9])"
      ]
     },
     "execution_count": 19,
     "metadata": {},
     "output_type": "execute_result"
    }
   ],
   "source": [
    "# arange\n",
    "np.arange(1,11,2)   # this is just like the range function"
   ]
  },
  {
   "cell_type": "code",
   "execution_count": 20,
   "id": "7b27b85d",
   "metadata": {},
   "outputs": [
    {
     "data": {
      "text/plain": [
       "array([[ 1,  2,  3,  4,  5],\n",
       "       [ 6,  7,  8,  9, 10]])"
      ]
     },
     "execution_count": 20,
     "metadata": {},
     "output_type": "execute_result"
    }
   ],
   "source": [
    "# reshape\n",
    "np.arange(1,11).reshape(2,5)"
   ]
  },
  {
   "cell_type": "code",
   "execution_count": 21,
   "id": "0d5e4d1a",
   "metadata": {},
   "outputs": [
    {
     "data": {
      "text/plain": [
       "array([[ 1,  2,  3,  4,  5,  6],\n",
       "       [ 7,  8,  9, 10, 11, 12]])"
      ]
     },
     "execution_count": 21,
     "metadata": {},
     "output_type": "execute_result"
    }
   ],
   "source": [
    "np.arange(1,13).reshape(2,6) \n",
    "#this only happen when u fullfill the requirement that m*n is equal to the no. of column"
   ]
  },
  {
   "cell_type": "code",
   "execution_count": 22,
   "id": "8b7e116c",
   "metadata": {},
   "outputs": [
    {
     "data": {
      "text/plain": [
       "array([[1., 1., 1., 1.],\n",
       "       [1., 1., 1., 1.],\n",
       "       [1., 1., 1., 1.]])"
      ]
     },
     "execution_count": 22,
     "metadata": {},
     "output_type": "execute_result"
    }
   ],
   "source": [
    "# np.ones and np.zeros\n",
    "np.ones((3,4))"
   ]
  },
  {
   "cell_type": "code",
   "execution_count": 23,
   "id": "fdaa4335",
   "metadata": {},
   "outputs": [
    {
     "data": {
      "text/plain": [
       "array([[0., 0., 0.],\n",
       "       [0., 0., 0.],\n",
       "       [0., 0., 0.],\n",
       "       [0., 0., 0.]])"
      ]
     },
     "execution_count": 23,
     "metadata": {},
     "output_type": "execute_result"
    }
   ],
   "source": [
    "np.zeros((4,3))"
   ]
  },
  {
   "cell_type": "code",
   "execution_count": 27,
   "id": "ab4e5206",
   "metadata": {},
   "outputs": [
    {
     "data": {
      "text/plain": [
       "array([[0.54426694, 0.2336438 , 0.12507838, 0.60587458],\n",
       "       [0.84887413, 0.05878721, 0.52850044, 0.62745618],\n",
       "       [0.01599406, 0.77276802, 0.69350275, 0.58784676]])"
      ]
     },
     "execution_count": 27,
     "metadata": {},
     "output_type": "execute_result"
    }
   ],
   "source": [
    "#np.random \n",
    "np.random.random((3,4))"
   ]
  },
  {
   "cell_type": "code",
   "execution_count": 32,
   "id": "2022bb2b",
   "metadata": {},
   "outputs": [
    {
     "data": {
      "text/plain": [
       "array([[-10.        ,  -7.77777778,  -5.55555556,  -3.33333333,\n",
       "         -1.11111111],\n",
       "       [  1.11111111,   3.33333333,   5.55555556,   7.77777778,\n",
       "         10.        ]])"
      ]
     },
     "execution_count": 32,
     "metadata": {},
     "output_type": "execute_result"
    }
   ],
   "source": [
    "# np.linspace \n",
    "np.linspace(-10,10,10).reshape(2,5)\n",
    "# first and the second no. tells the range and the last no. tells us the no. of no.we want\n",
    "\n",
    "# in this the points are generated at equal distance "
   ]
  },
  {
   "cell_type": "code",
   "execution_count": 33,
   "id": "0a2501a0",
   "metadata": {},
   "outputs": [
    {
     "data": {
      "text/plain": [
       "array([[1., 0., 0.],\n",
       "       [0., 1., 0.],\n",
       "       [0., 0., 1.]])"
      ]
     },
     "execution_count": 33,
     "metadata": {},
     "output_type": "execute_result"
    }
   ],
   "source": [
    "# np.identity \n",
    "# to create the identity matrix of the given shape\n",
    "np.identity(3)"
   ]
  },
  {
   "cell_type": "markdown",
   "id": "356657dc",
   "metadata": {},
   "source": [
    "# Attributes of numpy array"
   ]
  },
  {
   "cell_type": "code",
   "execution_count": 34,
   "id": "d1603892",
   "metadata": {},
   "outputs": [],
   "source": [
    "a1 = np.arange(10)\n",
    "a2 = np.arange(12,dtype=float).reshape(3,4)\n",
    "a3 = np.arange(8).reshape(2,2,2) # isme pehla wala 2 batata he ki kitne 2d array he baki dono 2d ka shape"
   ]
  },
  {
   "cell_type": "code",
   "execution_count": 37,
   "id": "aea3721c",
   "metadata": {},
   "outputs": [
    {
     "data": {
      "text/plain": [
       "3"
      ]
     },
     "execution_count": 37,
     "metadata": {},
     "output_type": "execute_result"
    }
   ],
   "source": [
    "#ndim\n",
    "a3.ndim"
   ]
  },
  {
   "cell_type": "code",
   "execution_count": 38,
   "id": "c84e4f54",
   "metadata": {},
   "outputs": [
    {
     "data": {
      "text/plain": [
       "(2, 2, 2)"
      ]
     },
     "execution_count": 38,
     "metadata": {},
     "output_type": "execute_result"
    }
   ],
   "source": [
    "# shape\n",
    "a3.shape"
   ]
  },
  {
   "cell_type": "code",
   "execution_count": 39,
   "id": "cebfb81f",
   "metadata": {},
   "outputs": [
    {
     "data": {
      "text/plain": [
       "8"
      ]
     },
     "execution_count": 39,
     "metadata": {},
     "output_type": "execute_result"
    }
   ],
   "source": [
    "#size\n",
    "a3.size"
   ]
  },
  {
   "cell_type": "code",
   "execution_count": 44,
   "id": "efc75565",
   "metadata": {},
   "outputs": [
    {
     "data": {
      "text/plain": [
       "4"
      ]
     },
     "execution_count": 44,
     "metadata": {},
     "output_type": "execute_result"
    }
   ],
   "source": [
    "#item size\n",
    "a3.itemsize # tells us how much space is required by the each item of the array"
   ]
  },
  {
   "cell_type": "code",
   "execution_count": 47,
   "id": "94afc6c9",
   "metadata": {},
   "outputs": [
    {
     "data": {
      "text/plain": [
       "dtype('int32')"
      ]
     },
     "execution_count": 47,
     "metadata": {},
     "output_type": "execute_result"
    }
   ],
   "source": [
    "#dtype\n",
    "a1.dtype"
   ]
  },
  {
   "cell_type": "markdown",
   "id": "bbb82212",
   "metadata": {},
   "source": [
    "# Changing the datatype of the array"
   ]
  },
  {
   "cell_type": "code",
   "execution_count": 50,
   "id": "6c5d563a",
   "metadata": {},
   "outputs": [
    {
     "data": {
      "text/plain": [
       "array([0, 1, 2, 3, 4, 5, 6, 7, 8, 9])"
      ]
     },
     "execution_count": 50,
     "metadata": {},
     "output_type": "execute_result"
    }
   ],
   "source": [
    "# astype\n",
    "a1.astype(np.int32)\n",
    "# we use this when we are working with the large datasets"
   ]
  },
  {
   "cell_type": "code",
   "execution_count": 51,
   "id": "daab233e",
   "metadata": {},
   "outputs": [
    {
     "data": {
      "text/plain": [
       "dtype('int32')"
      ]
     },
     "execution_count": 51,
     "metadata": {},
     "output_type": "execute_result"
    }
   ],
   "source": [
    "a1.dtype"
   ]
  },
  {
   "cell_type": "markdown",
   "id": "fbb29135",
   "metadata": {},
   "source": [
    "# Array operations"
   ]
  },
  {
   "cell_type": "code",
   "execution_count": 52,
   "id": "9373f3e2",
   "metadata": {},
   "outputs": [],
   "source": [
    "a1 = np.arange(12).reshape(3,4)\n",
    "a2 = np.arange(12,24).reshape(3,4)"
   ]
  },
  {
   "cell_type": "code",
   "execution_count": 58,
   "id": "a230a121",
   "metadata": {},
   "outputs": [
    {
     "data": {
      "text/plain": [
       "(array([[  0,   1,   4,   9],\n",
       "        [ 16,  25,  36,  49],\n",
       "        [ 64,  81, 100, 121]], dtype=int32),\n",
       " array([[ 0,  2,  4,  6],\n",
       "        [ 8, 10, 12, 14],\n",
       "        [16, 18, 20, 22]]))"
      ]
     },
     "execution_count": 58,
     "metadata": {},
     "output_type": "execute_result"
    }
   ],
   "source": [
    "# Scalar Operations or arithmatic \n",
    "a1**2,a1*2"
   ]
  },
  {
   "cell_type": "code",
   "execution_count": 60,
   "id": "833dc0e6",
   "metadata": {},
   "outputs": [
    {
     "data": {
      "text/plain": [
       "array([[False, False, False, False],\n",
       "       [False,  True,  True,  True],\n",
       "       [ True,  True,  True,  True]])"
      ]
     },
     "execution_count": 60,
     "metadata": {},
     "output_type": "execute_result"
    }
   ],
   "source": [
    "# relational operator\n",
    "a1 >= 5"
   ]
  },
  {
   "cell_type": "code",
   "execution_count": 62,
   "id": "4663c7ad",
   "metadata": {},
   "outputs": [
    {
     "data": {
      "text/plain": [
       "(array([[12, 14, 16, 18],\n",
       "        [20, 22, 24, 26],\n",
       "        [28, 30, 32, 34]]),\n",
       " array([[          0,           1,       16384,    14348907],\n",
       "        [          0, -1564725563,  1159987200,   442181591],\n",
       "        [          0,  1914644777, -1304428544,  -122979837]], dtype=int32))"
      ]
     },
     "execution_count": 62,
     "metadata": {},
     "output_type": "execute_result"
    }
   ],
   "source": [
    "# vector operation arithmatic\n",
    "a1 + a2, a1**a2"
   ]
  },
  {
   "cell_type": "markdown",
   "id": "962716f5",
   "metadata": {},
   "source": [
    "# Array Function"
   ]
  },
  {
   "cell_type": "code",
   "execution_count": 63,
   "id": "2e663db4",
   "metadata": {},
   "outputs": [],
   "source": [
    "a1 = np.random.random((3,3))\n",
    "a2 = np.round(a1*100)"
   ]
  },
  {
   "cell_type": "code",
   "execution_count": 66,
   "id": "436fbf51",
   "metadata": {},
   "outputs": [
    {
     "data": {
      "text/plain": [
       "(array([[73., 14., 33.],\n",
       "        [58., 61., 21.],\n",
       "        [47., 77., 13.]]),\n",
       " array([[0.7289065 , 0.14242503, 0.32850475],\n",
       "        [0.57657722, 0.6112909 , 0.21201569],\n",
       "        [0.46858907, 0.76729669, 0.12617496]]))"
      ]
     },
     "execution_count": 66,
     "metadata": {},
     "output_type": "execute_result"
    }
   ],
   "source": [
    "a2,a1"
   ]
  },
  {
   "cell_type": "code",
   "execution_count": 72,
   "id": "03b430a3",
   "metadata": {},
   "outputs": [
    {
     "data": {
      "text/plain": [
       "(0.767296692086683, 0.1261749615968769, 397.0, 117889165750356.0)"
      ]
     },
     "execution_count": 72,
     "metadata": {},
     "output_type": "execute_result"
    }
   ],
   "source": [
    "# max / min / sum / prod\n",
    "np.max(a1) , np.min(a1) , np.sum(a2) , np.prod(a2)"
   ]
  },
  {
   "cell_type": "code",
   "execution_count": 74,
   "id": "85a738fc",
   "metadata": {},
   "outputs": [
    {
     "data": {
      "text/plain": [
       "array([14., 21., 13.])"
      ]
     },
     "execution_count": 74,
     "metadata": {},
     "output_type": "execute_result"
    }
   ],
   "source": [
    "# if har row ka minimum chahiye tab\n",
    "np.min(a2,axis=1) # axis agar 1 he toh rowise  or 0 he toh column wise"
   ]
  },
  {
   "cell_type": "code",
   "execution_count": 78,
   "id": "4471761b",
   "metadata": {},
   "outputs": [
    {
     "data": {
      "text/plain": [
       "(44.111111111111114, 47.0, 23.416254774287047, 548.320987654321)"
      ]
     },
     "execution_count": 78,
     "metadata": {},
     "output_type": "execute_result"
    }
   ],
   "source": [
    "# mean / median / std / var\n",
    "np.mean(a2) , np.median(a2) , np.std(a2) , np.var(a2)"
   ]
  },
  {
   "cell_type": "code",
   "execution_count": 80,
   "id": "a6aa5777",
   "metadata": {},
   "outputs": [
    {
     "data": {
      "text/plain": [
       "(array([59.33333333, 50.66666667, 22.33333333]),\n",
       " array([33., 58., 47.]),\n",
       " array([10.65624491, 26.73740617,  8.21921867]),\n",
       " array([604.66666667, 330.88888889, 683.55555556]))"
      ]
     },
     "execution_count": 80,
     "metadata": {},
     "output_type": "execute_result"
    }
   ],
   "source": [
    "np.mean(a2,axis=0) , np.median(a2,axis=1) , np.std(a2,axis=0) , np.var(a2,axis=1)"
   ]
  },
  {
   "cell_type": "code",
   "execution_count": null,
   "id": "bf337856",
   "metadata": {},
   "outputs": [],
   "source": []
  }
 ],
 "metadata": {
  "kernelspec": {
   "display_name": "Python 3 (ipykernel)",
   "language": "python",
   "name": "python3"
  },
  "language_info": {
   "codemirror_mode": {
    "name": "ipython",
    "version": 3
   },
   "file_extension": ".py",
   "mimetype": "text/x-python",
   "name": "python",
   "nbconvert_exporter": "python",
   "pygments_lexer": "ipython3",
   "version": "3.10.0"
  }
 },
 "nbformat": 4,
 "nbformat_minor": 5
}
