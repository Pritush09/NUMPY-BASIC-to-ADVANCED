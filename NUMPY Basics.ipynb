{
 "cells": [
  {
   "cell_type": "code",
   "execution_count": 3,
   "id": "fde0f90f",
   "metadata": {},
   "outputs": [],
   "source": [
    "import numpy as np"
   ]
  },
  {
   "cell_type": "markdown",
   "id": "8261f80d",
   "metadata": {},
   "source": [
    "# Creation of the numpy array"
   ]
  },
  {
   "cell_type": "code",
   "execution_count": 6,
   "id": "c23088ba",
   "metadata": {},
   "outputs": [
    {
     "data": {
      "text/plain": [
       "numpy.ndarray"
      ]
     },
     "execution_count": 6,
     "metadata": {},
     "output_type": "execute_result"
    }
   ],
   "source": [
    "type(np.array([1,2,3]))"
   ]
  },
  {
   "cell_type": "code",
   "execution_count": 10,
   "id": "afda6945",
   "metadata": {},
   "outputs": [
    {
     "data": {
      "text/plain": [
       "array([[1, 2, 3],\n",
       "       [1, 2, 3]])"
      ]
     },
     "execution_count": 10,
     "metadata": {},
     "output_type": "execute_result"
    }
   ],
   "source": [
    "# 2d array\n",
    "td = np.array([[1,2,3],[1,2,3]])\n",
    "td"
   ]
  },
  {
   "cell_type": "code",
   "execution_count": 12,
   "id": "96a8c91e",
   "metadata": {},
   "outputs": [
    {
     "data": {
      "text/plain": [
       "array([[[1, 2, 3],\n",
       "        [2, 3, 4]],\n",
       "\n",
       "       [[1, 2, 3],\n",
       "        [2, 3, 4]]])"
      ]
     },
     "execution_count": 12,
     "metadata": {},
     "output_type": "execute_result"
    }
   ],
   "source": [
    "# 3d \n",
    "thrd = np.array([[[1,2,3],[2,3,4]],[[1,2,3],[2,3,4]]])\n",
    "thrd  # also called as tensors"
   ]
  },
  {
   "cell_type": "code",
   "execution_count": 15,
   "id": "5badfddb",
   "metadata": {},
   "outputs": [
    {
     "data": {
      "text/plain": [
       "dtype('float32')"
      ]
     },
     "execution_count": 15,
     "metadata": {},
     "output_type": "execute_result"
    }
   ],
   "source": [
    "# dtype array\n",
    "np.array([1,2,3],dtype='float32')\n",
    "np.array([1,2,3],dtype='float32').dtype"
   ]
  },
  {
   "cell_type": "code",
   "execution_count": 16,
   "id": "b2de4e0e",
   "metadata": {},
   "outputs": [
    {
     "data": {
      "text/plain": [
       "array([1.+0.j, 2.+0.j, 3.+0.j])"
      ]
     },
     "execution_count": 16,
     "metadata": {},
     "output_type": "execute_result"
    }
   ],
   "source": [
    "np.array([1,2,3],dtype=complex)"
   ]
  },
  {
   "cell_type": "code",
   "execution_count": 19,
   "id": "874d7bcd",
   "metadata": {},
   "outputs": [
    {
     "data": {
      "text/plain": [
       "array([1, 3, 5, 7, 9])"
      ]
     },
     "execution_count": 19,
     "metadata": {},
     "output_type": "execute_result"
    }
   ],
   "source": [
    "# arange\n",
    "np.arange(1,11,2)   # this is just like the range function"
   ]
  },
  {
   "cell_type": "code",
   "execution_count": 20,
   "id": "04254f44",
   "metadata": {},
   "outputs": [
    {
     "data": {
      "text/plain": [
       "array([[ 1,  2,  3,  4,  5],\n",
       "       [ 6,  7,  8,  9, 10]])"
      ]
     },
     "execution_count": 20,
     "metadata": {},
     "output_type": "execute_result"
    }
   ],
   "source": [
    "# reshape\n",
    "np.arange(1,11).reshape(2,5)"
   ]
  },
  {
   "cell_type": "code",
   "execution_count": 21,
   "id": "9d66b638",
   "metadata": {},
   "outputs": [
    {
     "data": {
      "text/plain": [
       "array([[ 1,  2,  3,  4,  5,  6],\n",
       "       [ 7,  8,  9, 10, 11, 12]])"
      ]
     },
     "execution_count": 21,
     "metadata": {},
     "output_type": "execute_result"
    }
   ],
   "source": [
    "np.arange(1,13).reshape(2,6) \n",
    "#this only happen when u fullfill the requirement that m*n is equal to the no. of column"
   ]
  },
  {
   "cell_type": "code",
   "execution_count": 22,
   "id": "7496e150",
   "metadata": {},
   "outputs": [
    {
     "data": {
      "text/plain": [
       "array([[1., 1., 1., 1.],\n",
       "       [1., 1., 1., 1.],\n",
       "       [1., 1., 1., 1.]])"
      ]
     },
     "execution_count": 22,
     "metadata": {},
     "output_type": "execute_result"
    }
   ],
   "source": [
    "# np.ones and np.zeros\n",
    "np.ones((3,4))"
   ]
  },
  {
   "cell_type": "code",
   "execution_count": 23,
   "id": "895a45a4",
   "metadata": {},
   "outputs": [
    {
     "data": {
      "text/plain": [
       "array([[0., 0., 0.],\n",
       "       [0., 0., 0.],\n",
       "       [0., 0., 0.],\n",
       "       [0., 0., 0.]])"
      ]
     },
     "execution_count": 23,
     "metadata": {},
     "output_type": "execute_result"
    }
   ],
   "source": [
    "np.zeros((4,3))"
   ]
  },
  {
   "cell_type": "code",
   "execution_count": 27,
   "id": "a31a9eab",
   "metadata": {},
   "outputs": [
    {
     "data": {
      "text/plain": [
       "array([[0.54426694, 0.2336438 , 0.12507838, 0.60587458],\n",
       "       [0.84887413, 0.05878721, 0.52850044, 0.62745618],\n",
       "       [0.01599406, 0.77276802, 0.69350275, 0.58784676]])"
      ]
     },
     "execution_count": 27,
     "metadata": {},
     "output_type": "execute_result"
    }
   ],
   "source": [
    "#np.random \n",
    "np.random.random((3,4))"
   ]
  },
  {
   "cell_type": "code",
   "execution_count": 32,
   "id": "ddc567f5",
   "metadata": {},
   "outputs": [
    {
     "data": {
      "text/plain": [
       "array([[-10.        ,  -7.77777778,  -5.55555556,  -3.33333333,\n",
       "         -1.11111111],\n",
       "       [  1.11111111,   3.33333333,   5.55555556,   7.77777778,\n",
       "         10.        ]])"
      ]
     },
     "execution_count": 32,
     "metadata": {},
     "output_type": "execute_result"
    }
   ],
   "source": [
    "# np.linspace \n",
    "np.linspace(-10,10,10).reshape(2,5)\n",
    "# first and the second no. tells the range and the last no. tells us the no. of no.we want\n",
    "\n",
    "# in this the points are generated at equal distance "
   ]
  },
  {
   "cell_type": "code",
   "execution_count": 33,
   "id": "81edca15",
   "metadata": {},
   "outputs": [
    {
     "data": {
      "text/plain": [
       "array([[1., 0., 0.],\n",
       "       [0., 1., 0.],\n",
       "       [0., 0., 1.]])"
      ]
     },
     "execution_count": 33,
     "metadata": {},
     "output_type": "execute_result"
    }
   ],
   "source": [
    "# np.identity \n",
    "# to create the identity matrix of the given shape\n",
    "np.identity(3)"
   ]
  },
  {
   "cell_type": "markdown",
   "id": "051b0e5e",
   "metadata": {},
   "source": [
    "# Attributes of numpy array"
   ]
  },
  {
   "cell_type": "code",
   "execution_count": 34,
   "id": "f0740a4c",
   "metadata": {},
   "outputs": [],
   "source": [
    "a1 = np.arange(10)\n",
    "a2 = np.arange(12,dtype=float).reshape(3,4)\n",
    "a3 = np.arange(8).reshape(2,2,2) # isme pehla wala 2 batata he ki kitne 2d array he baki dono 2d ka shape"
   ]
  },
  {
   "cell_type": "code",
   "execution_count": 37,
   "id": "dfde8829",
   "metadata": {},
   "outputs": [
    {
     "data": {
      "text/plain": [
       "3"
      ]
     },
     "execution_count": 37,
     "metadata": {},
     "output_type": "execute_result"
    }
   ],
   "source": [
    "#ndim\n",
    "a3.ndim"
   ]
  },
  {
   "cell_type": "code",
   "execution_count": 38,
   "id": "af0ad891",
   "metadata": {},
   "outputs": [
    {
     "data": {
      "text/plain": [
       "(2, 2, 2)"
      ]
     },
     "execution_count": 38,
     "metadata": {},
     "output_type": "execute_result"
    }
   ],
   "source": [
    "# shape\n",
    "a3.shape"
   ]
  },
  {
   "cell_type": "code",
   "execution_count": 39,
   "id": "cda2b8b5",
   "metadata": {},
   "outputs": [
    {
     "data": {
      "text/plain": [
       "8"
      ]
     },
     "execution_count": 39,
     "metadata": {},
     "output_type": "execute_result"
    }
   ],
   "source": [
    "#size\n",
    "a3.size"
   ]
  },
  {
   "cell_type": "code",
   "execution_count": 44,
   "id": "9ca4a18c",
   "metadata": {},
   "outputs": [
    {
     "data": {
      "text/plain": [
       "4"
      ]
     },
     "execution_count": 44,
     "metadata": {},
     "output_type": "execute_result"
    }
   ],
   "source": [
    "#item size\n",
    "a3.itemsize # tells us how much space is required by the each item of the array"
   ]
  },
  {
   "cell_type": "code",
   "execution_count": 47,
   "id": "1261fa8b",
   "metadata": {},
   "outputs": [
    {
     "data": {
      "text/plain": [
       "dtype('int32')"
      ]
     },
     "execution_count": 47,
     "metadata": {},
     "output_type": "execute_result"
    }
   ],
   "source": [
    "#dtype\n",
    "a1.dtype"
   ]
  },
  {
   "cell_type": "markdown",
   "id": "3c2ee610",
   "metadata": {},
   "source": [
    "# Changing the datatype of the array"
   ]
  },
  {
   "cell_type": "code",
   "execution_count": 50,
   "id": "e03502a7",
   "metadata": {},
   "outputs": [
    {
     "data": {
      "text/plain": [
       "array([0, 1, 2, 3, 4, 5, 6, 7, 8, 9])"
      ]
     },
     "execution_count": 50,
     "metadata": {},
     "output_type": "execute_result"
    }
   ],
   "source": [
    "# astype\n",
    "a1.astype(np.int32)\n",
    "# we use this when we are working with the large datasets"
   ]
  },
  {
   "cell_type": "code",
   "execution_count": 51,
   "id": "891ed240",
   "metadata": {},
   "outputs": [
    {
     "data": {
      "text/plain": [
       "dtype('int32')"
      ]
     },
     "execution_count": 51,
     "metadata": {},
     "output_type": "execute_result"
    }
   ],
   "source": [
    "a1.dtype"
   ]
  },
  {
   "cell_type": "markdown",
   "id": "d6743127",
   "metadata": {},
   "source": [
    "# Array operations"
   ]
  },
  {
   "cell_type": "code",
   "execution_count": 52,
   "id": "693bbba3",
   "metadata": {},
   "outputs": [],
   "source": [
    "a1 = np.arange(12).reshape(3,4)\n",
    "a2 = np.arange(12,24).reshape(3,4)"
   ]
  },
  {
   "cell_type": "code",
   "execution_count": 58,
   "id": "f27f53c6",
   "metadata": {},
   "outputs": [
    {
     "data": {
      "text/plain": [
       "(array([[  0,   1,   4,   9],\n",
       "        [ 16,  25,  36,  49],\n",
       "        [ 64,  81, 100, 121]], dtype=int32),\n",
       " array([[ 0,  2,  4,  6],\n",
       "        [ 8, 10, 12, 14],\n",
       "        [16, 18, 20, 22]]))"
      ]
     },
     "execution_count": 58,
     "metadata": {},
     "output_type": "execute_result"
    }
   ],
   "source": [
    "# Scalar Operations or arithmatic \n",
    "a1**2,a1*2"
   ]
  },
  {
   "cell_type": "code",
   "execution_count": 60,
   "id": "a8c01eac",
   "metadata": {},
   "outputs": [
    {
     "data": {
      "text/plain": [
       "array([[False, False, False, False],\n",
       "       [False,  True,  True,  True],\n",
       "       [ True,  True,  True,  True]])"
      ]
     },
     "execution_count": 60,
     "metadata": {},
     "output_type": "execute_result"
    }
   ],
   "source": [
    "# relational operator\n",
    "a1 >= 5"
   ]
  },
  {
   "cell_type": "code",
   "execution_count": 62,
   "id": "5e2fc57f",
   "metadata": {},
   "outputs": [
    {
     "data": {
      "text/plain": [
       "(array([[12, 14, 16, 18],\n",
       "        [20, 22, 24, 26],\n",
       "        [28, 30, 32, 34]]),\n",
       " array([[          0,           1,       16384,    14348907],\n",
       "        [          0, -1564725563,  1159987200,   442181591],\n",
       "        [          0,  1914644777, -1304428544,  -122979837]], dtype=int32))"
      ]
     },
     "execution_count": 62,
     "metadata": {},
     "output_type": "execute_result"
    }
   ],
   "source": [
    "# vector operation arithmatic\n",
    "a1 + a2, a1**a2"
   ]
  },
  {
   "cell_type": "markdown",
   "id": "7e168a22",
   "metadata": {},
   "source": [
    "# Array Function"
   ]
  },
  {
   "cell_type": "code",
   "execution_count": 63,
   "id": "128c5bf3",
   "metadata": {},
   "outputs": [],
   "source": [
    "a1 = np.random.random((3,3))\n",
    "a2 = np.round(a1*100)"
   ]
  },
  {
   "cell_type": "code",
   "execution_count": 66,
   "id": "934425a4",
   "metadata": {},
   "outputs": [
    {
     "data": {
      "text/plain": [
       "(array([[73., 14., 33.],\n",
       "        [58., 61., 21.],\n",
       "        [47., 77., 13.]]),\n",
       " array([[0.7289065 , 0.14242503, 0.32850475],\n",
       "        [0.57657722, 0.6112909 , 0.21201569],\n",
       "        [0.46858907, 0.76729669, 0.12617496]]))"
      ]
     },
     "execution_count": 66,
     "metadata": {},
     "output_type": "execute_result"
    }
   ],
   "source": [
    "a2,a1"
   ]
  },
  {
   "cell_type": "code",
   "execution_count": 72,
   "id": "cf6bce23",
   "metadata": {},
   "outputs": [
    {
     "data": {
      "text/plain": [
       "(0.767296692086683, 0.1261749615968769, 397.0, 117889165750356.0)"
      ]
     },
     "execution_count": 72,
     "metadata": {},
     "output_type": "execute_result"
    }
   ],
   "source": [
    "# max / min / sum / prod\n",
    "np.max(a1) , np.min(a1) , np.sum(a2) , np.prod(a2)"
   ]
  },
  {
   "cell_type": "code",
   "execution_count": 74,
   "id": "3c6e3b7d",
   "metadata": {},
   "outputs": [
    {
     "data": {
      "text/plain": [
       "array([14., 21., 13.])"
      ]
     },
     "execution_count": 74,
     "metadata": {},
     "output_type": "execute_result"
    }
   ],
   "source": [
    "# if har row ka minimum chahiye tab\n",
    "np.min(a2,axis=1) # axis agar 1 he toh rowise  or 0 he toh column wise"
   ]
  },
  {
   "cell_type": "code",
   "execution_count": 78,
   "id": "e2515324",
   "metadata": {},
   "outputs": [
    {
     "data": {
      "text/plain": [
       "(44.111111111111114, 47.0, 23.416254774287047, 548.320987654321)"
      ]
     },
     "execution_count": 78,
     "metadata": {},
     "output_type": "execute_result"
    }
   ],
   "source": [
    "# mean / median / std / var\n",
    "np.mean(a2) , np.median(a2) , np.std(a2) , np.var(a2)"
   ]
  },
  {
   "cell_type": "code",
   "execution_count": 80,
   "id": "f7230cd4",
   "metadata": {},
   "outputs": [
    {
     "data": {
      "text/plain": [
       "(array([59.33333333, 50.66666667, 22.33333333]),\n",
       " array([33., 58., 47.]),\n",
       " array([10.65624491, 26.73740617,  8.21921867]),\n",
       " array([604.66666667, 330.88888889, 683.55555556]))"
      ]
     },
     "execution_count": 80,
     "metadata": {},
     "output_type": "execute_result"
    }
   ],
   "source": [
    "np.mean(a2,axis=0) , np.median(a2,axis=1) , np.std(a2,axis=0) , np.var(a2,axis=1)"
   ]
  },
  {
   "cell_type": "code",
   "execution_count": 81,
   "id": "4942aecd",
   "metadata": {},
   "outputs": [
    {
     "data": {
      "text/plain": [
       "array([[-0.67677196,  0.99060736,  0.99991186],\n",
       "       [ 0.99287265, -0.96611777,  0.83665564],\n",
       "       [ 0.12357312,  0.99952016,  0.42016704]])"
      ]
     },
     "execution_count": 81,
     "metadata": {},
     "output_type": "execute_result"
    }
   ],
   "source": [
    "# trignometric function\n",
    "np.sin(a2)"
   ]
  },
  {
   "cell_type": "code",
   "execution_count": 83,
   "id": "ce867ba4",
   "metadata": {},
   "outputs": [
    {
     "data": {
      "text/plain": [
       "array([[114, 120, 126],\n",
       "       [378, 400, 422],\n",
       "       [642, 680, 718]])"
      ]
     },
     "execution_count": 83,
     "metadata": {},
     "output_type": "execute_result"
    }
   ],
   "source": [
    "# dot product \n",
    "a1 = np.arange(12).reshape(3,4)\n",
    "a2 = np.arange(12,24).reshape(4,3)\n",
    "np.dot(a1,a2)"
   ]
  },
  {
   "cell_type": "code",
   "execution_count": 84,
   "id": "54d86286",
   "metadata": {},
   "outputs": [
    {
     "name": "stderr",
     "output_type": "stream",
     "text": [
      "C:\\Users\\mynam\\AppData\\Local\\Temp/ipykernel_12064/3293755341.py:2: RuntimeWarning: divide by zero encountered in log\n",
      "  np.log(a1) , np.exp(a1)\n"
     ]
    },
    {
     "data": {
      "text/plain": [
       "(array([[      -inf, 0.        , 0.69314718, 1.09861229],\n",
       "        [1.38629436, 1.60943791, 1.79175947, 1.94591015],\n",
       "        [2.07944154, 2.19722458, 2.30258509, 2.39789527]]),\n",
       " array([[1.00000000e+00, 2.71828183e+00, 7.38905610e+00, 2.00855369e+01],\n",
       "        [5.45981500e+01, 1.48413159e+02, 4.03428793e+02, 1.09663316e+03],\n",
       "        [2.98095799e+03, 8.10308393e+03, 2.20264658e+04, 5.98741417e+04]]))"
      ]
     },
     "execution_count": 84,
     "metadata": {},
     "output_type": "execute_result"
    }
   ],
   "source": [
    "# log and exponent \n",
    "np.log(a1) , np.exp(a1)"
   ]
  },
  {
   "cell_type": "code",
   "execution_count": 92,
   "id": "3cbc4eb3",
   "metadata": {},
   "outputs": [
    {
     "name": "stdout",
     "output_type": "stream",
     "text": [
      "[[63.44221052 87.52372018 89.76619469]\n",
      " [ 6.3222066  61.4162711  70.49801125]]\n",
      "\n",
      "[[63. 88. 90.]\n",
      " [ 6. 61. 70.]]\n",
      "\n",
      "[[63. 87. 89.]\n",
      " [ 6. 61. 70.]]\n",
      "\n",
      "[[64. 88. 90.]\n",
      " [ 7. 62. 71.]]\n"
     ]
    }
   ],
   "source": [
    "# round / ceil / floor\n",
    "a1 = np.random.random((2,3))*100 \n",
    "print(a1)\n",
    "print()\n",
    "print(np.round(a1))# inorder to get integers we use round\n",
    "print()\n",
    "print(np.floor(a1)) # to get the floor value\n",
    "print()\n",
    "print(np.ceil(a1))"
   ]
  },
  {
   "cell_type": "markdown",
   "id": "742c0392",
   "metadata": {},
   "source": [
    "# Indexing and Slicing"
   ]
  },
  {
   "cell_type": "code",
   "execution_count": 93,
   "id": "85d7aa16",
   "metadata": {},
   "outputs": [],
   "source": [
    "a1 = np.arange(10)\n",
    "a2 = np.arange(12,dtype=float).reshape(3,4)\n",
    "a3 = np.arange(8).reshape(2,2,2)"
   ]
  },
  {
   "cell_type": "code",
   "execution_count": 96,
   "id": "07f9ef9a",
   "metadata": {},
   "outputs": [
    {
     "data": {
      "text/plain": [
       "(9, 0, 3)"
      ]
     },
     "execution_count": 96,
     "metadata": {},
     "output_type": "execute_result"
    }
   ],
   "source": [
    "a1[-1], a1[0], a1[3]"
   ]
  },
  {
   "cell_type": "code",
   "execution_count": 98,
   "id": "6d9915d7",
   "metadata": {},
   "outputs": [
    {
     "name": "stdout",
     "output_type": "stream",
     "text": [
      "[[ 0.  1.  2.  3.]\n",
      " [ 4.  5.  6.  7.]\n",
      " [ 8.  9. 10. 11.]]\n"
     ]
    },
    {
     "data": {
      "text/plain": [
       "11.0"
      ]
     },
     "execution_count": 98,
     "metadata": {},
     "output_type": "execute_result"
    }
   ],
   "source": [
    "print(a2)\n",
    "a2[2][3]"
   ]
  },
  {
   "cell_type": "code",
   "execution_count": 101,
   "id": "79a63ab0",
   "metadata": {},
   "outputs": [
    {
     "name": "stdout",
     "output_type": "stream",
     "text": [
      "[[[0 1]\n",
      "  [2 3]]\n",
      "\n",
      " [[4 5]\n",
      "  [6 7]]]\n"
     ]
    },
    {
     "data": {
      "text/plain": [
       "(5, 0)"
      ]
     },
     "execution_count": 101,
     "metadata": {},
     "output_type": "execute_result"
    }
   ],
   "source": [
    "print(a3)\n",
    "a3[1,0,1] , a3[0,0,0]\n",
    "# pehle batana he ki konsa wala 2d array me he aur fir konsa row me he for konsa column me he\n",
    "# same thing can be implemented in the 4 array and nd"
   ]
  },
  {
   "cell_type": "code",
   "execution_count": null,
   "id": "4484027b",
   "metadata": {},
   "outputs": [],
   "source": []
  }
 ],
 "metadata": {
  "kernelspec": {
   "display_name": "Python 3 (ipykernel)",
   "language": "python",
   "name": "python3"
  },
  "language_info": {
   "codemirror_mode": {
    "name": "ipython",
    "version": 3
   },
   "file_extension": ".py",
   "mimetype": "text/x-python",
   "name": "python",
   "nbconvert_exporter": "python",
   "pygments_lexer": "ipython3",
   "version": "3.10.0"
  }
 },
 "nbformat": 4,
 "nbformat_minor": 5
}
