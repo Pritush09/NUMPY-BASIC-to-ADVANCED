{
 "cells": [
  {
   "cell_type": "code",
   "execution_count": 1,
   "id": "a604c7f0",
   "metadata": {},
   "outputs": [],
   "source": [
    "import numpy as np"
   ]
  },
  {
   "cell_type": "code",
   "execution_count": 3,
   "id": "443f7522",
   "metadata": {},
   "outputs": [
    {
     "name": "stdout",
     "output_type": "stream",
     "text": [
      "2.649040937423706\n",
      "0.13500118255615234\n"
     ]
    }
   ],
   "source": [
    "# speed\n",
    "\n",
    "# list\n",
    "a = [i for i in range(10000000)]\n",
    "b = [i for i in range(10000000,20000000)]\n",
    "\n",
    "c = []\n",
    "import time \n",
    "\n",
    "start = time.time()\n",
    "for i in range(len(a)):\n",
    "  c.append(a[i] + b[i])\n",
    "print(time.time()-start)\n",
    "\n",
    "# numpy\n",
    "import numpy as np\n",
    "a = np.arange(10000000)\n",
    "b = np.arange(10000000,20000000)\n",
    "\n",
    "start = time.time()\n",
    "c = a + b\n",
    "print(time.time()-start)"
   ]
  },
  {
   "cell_type": "code",
   "execution_count": 5,
   "id": "d9817f67",
   "metadata": {},
   "outputs": [
    {
     "data": {
      "text/plain": [
       "20.307692307692307"
      ]
     },
     "execution_count": 5,
     "metadata": {},
     "output_type": "execute_result"
    }
   ],
   "source": [
    "2.64/0.13"
   ]
  },
  {
   "cell_type": "code",
   "execution_count": null,
   "id": "fa85729e",
   "metadata": {},
   "outputs": [],
   "source": []
  }
 ],
 "metadata": {
  "kernelspec": {
   "display_name": "Python 3 (ipykernel)",
   "language": "python",
   "name": "python3"
  },
  "language_info": {
   "codemirror_mode": {
    "name": "ipython",
    "version": 3
   },
   "file_extension": ".py",
   "mimetype": "text/x-python",
   "name": "python",
   "nbconvert_exporter": "python",
   "pygments_lexer": "ipython3",
   "version": "3.10.0"
  }
 },
 "nbformat": 4,
 "nbformat_minor": 5
}
